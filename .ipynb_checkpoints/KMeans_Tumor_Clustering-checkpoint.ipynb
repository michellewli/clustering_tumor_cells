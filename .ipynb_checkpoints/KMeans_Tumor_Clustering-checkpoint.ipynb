{
 "cells": [
  {
   "cell_type": "markdown",
   "id": "7d863853",
   "metadata": {},
   "source": [
    "# K-Means Clustering of Tumor Data"
   ]
  },
  {
   "cell_type": "code",
   "execution_count": 1,
   "id": "808c50e0",
   "metadata": {},
   "outputs": [],
   "source": [
    "\n",
    "import pandas as pd\n",
    "import matplotlib.pyplot as plt\n",
    "from sklearn.cluster import KMeans\n",
    "from sklearn.decomposition import PCA\n",
    "\n",
    "# Load the dataset\n",
    "data = pd.read_csv(\"data.csv\")\n"
   ]
  },
  {
   "cell_type": "code",
   "execution_count": null,
   "id": "273388af",
   "metadata": {},
   "outputs": [],
   "source": [
    "\n",
    "# Assuming 'ID' is the column with tumor IDs and 'diagnosis' column should be excluded for clustering\n",
    "tumor_ids = data['ID']\n",
    "features = data.drop(columns=['ID', 'diagnosis'], errors='ignore')\n"
   ]
  },
  {
   "cell_type": "code",
   "execution_count": null,
   "id": "46cc9763",
   "metadata": {},
   "outputs": [],
   "source": [
    "\n",
    "# Set the number of clusters (e.g., 2 for benign and malignant)\n",
    "kmeans = KMeans(n_clusters=2, random_state=42)\n",
    "data['Cluster'] = kmeans.fit_predict(features)\n"
   ]
  },
  {
   "cell_type": "code",
   "execution_count": null,
   "id": "68dc6c6d",
   "metadata": {},
   "outputs": [],
   "source": [
    "\n",
    "# Create a DataFrame with the tumor IDs and their cluster labels\n",
    "cluster_results = pd.DataFrame({\n",
    "    'Tumor_ID': tumor_ids,\n",
    "    'Cluster_Label': data['Cluster']\n",
    "})\n",
    "\n",
    "# Save to CSV\n",
    "cluster_results.to_csv(\"tumor_clusters.csv\", index=False)\n",
    "\n",
    "print(\"Clustering results saved to tumor_clusters.csv\")\n"
   ]
  },
  {
   "cell_type": "code",
   "execution_count": null,
   "id": "35f3c57f",
   "metadata": {},
   "outputs": [],
   "source": [
    "\n",
    "# Use PCA to reduce data to 2D for visualization\n",
    "pca = PCA(n_components=2)\n",
    "reduced_features = pca.fit_transform(features)\n",
    "\n",
    "# Plot the clusters\n",
    "plt.figure(figsize=(10, 6))\n",
    "plt.scatter(\n",
    "    reduced_features[:, 0], reduced_features[:, 1],\n",
    "    c=data['Cluster'], cmap='viridis', edgecolor='k', s=50\n",
    ")\n",
    "plt.title(\"K-Means Clustering of Tumor Data (PCA-Reduced)\")\n",
    "plt.xlabel(\"Principal Component 1\")\n",
    "plt.ylabel(\"Principal Component 2\")\n",
    "plt.colorbar(label=\"Cluster Label\")\n",
    "plt.show()\n"
   ]
  }
 ],
 "metadata": {
  "kernelspec": {
   "display_name": "Python 3 (ipykernel)",
   "language": "python",
   "name": "python3"
  },
  "language_info": {
   "codemirror_mode": {
    "name": "ipython",
    "version": 3
   },
   "file_extension": ".py",
   "mimetype": "text/x-python",
   "name": "python",
   "nbconvert_exporter": "python",
   "pygments_lexer": "ipython3",
   "version": "3.9.12"
  }
 },
 "nbformat": 4,
 "nbformat_minor": 5
}
