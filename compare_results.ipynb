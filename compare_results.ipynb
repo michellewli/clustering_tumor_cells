{
 "cells": [
  {
   "cell_type": "markdown",
   "id": "d032f62d",
   "metadata": {},
   "source": [
    "# Accuracy Comparison and Visualization of Quantum and Classical Clustering Models\n",
    "This notebook compares the clustering results from a quantum computing model and a classical k-means model. The classical model's classification is assumed to be the ground truth for accuracy. The clusters are visualized side-by-side for comparison."
   ]
  },
  {
   "cell_type": "code",
   "execution_count": null,
   "id": "6702e5f8",
   "metadata": {},
   "outputs": [],
   "source": [
    "import pandas as pd\n",
    "import numpy as np\n",
    "from sklearn.metrics import accuracy_score\n",
    "import matplotlib.pyplot as plt\n",
    "from sklearn.decomposition import PCA\n",
    "\n",
    "# Load clustering results from quantum and classical models\n",
    "quantum_results = pd.read_csv('clustering_results_quantum.csv')\n",
    "classical_results = pd.read_csv('clustering_results_classical.csv')"
   ]
  },
  {
   "cell_type": "code",
   "execution_count": null,
   "id": "e1beb841",
   "metadata": {},
   "outputs": [],
   "source": [
    "# Merge results on the 'ID' column to align both classifications for comparison\n",
    "merged_results = pd.merge(classical_results, quantum_results, on='ID', suffixes=('_classical', '_quantum'))\n",
    "\n",
    "# Calculate the accuracy of the quantum model by comparing its clusters to the classical clusters\n",
    "accuracy = accuracy_score(merged_results['Cluster_classical'], merged_results['Cluster_quantum'])\n",
    "print(f\"Quantum Model Accuracy compared to Classical Model: {accuracy * 100:.2f}%\")"
   ]
  },
  {
   "cell_type": "code",
   "execution_count": null,
   "id": "5a4178f9",
   "metadata": {},
   "outputs": [],
   "source": [
    "# Visualization of clusters using PCA for dimensionality reduction to 2D\n",
    "pca = PCA(n_components=2)\n",
    "features = pd.read_csv('data/data.csv').drop(columns=['ID', 'diagnosis'], errors='ignore')  # Modify columns as necessary\n",
    "reduced_features = pca.fit_transform(features)\n",
    "\n",
    "# Add the reduced features to the merged dataframe\n",
    "merged_results[['PCA1', 'PCA2']] = reduced_features\n",
    "\n",
    "# Plotting\n",
    "fig, axes = plt.subplots(1, 2, figsize=(14, 6))\n",
    "fig.suptitle(\"Cluster Visualization: Classical vs Quantum\", fontsize=16)\n",
    "\n",
    "# Classical model plot\n",
    "axes[0].scatter(merged_results['PCA1'], merged_results['PCA2'], c=merged_results['Cluster_classical'], cmap='viridis', s=30)\n",
    "axes[0].set_title(\"Classical Model Clusters\")\n",
    "axes[0].set_xlabel(\"PCA Component 1\")\n",
    "axes[0].set_ylabel(\"PCA Component 2\")\n",
    "\n",
    "# Quantum model plot\n",
    "axes[1].scatter(merged_results['PCA1'], merged_results['PCA2'], c=merged_results['Cluster_quantum'], cmap='viridis', s=30)\n",
    "axes[1].set_title(\"Quantum Model Clusters\")\n",
    "axes[1].set_xlabel(\"PCA Component 1\")\n",
    "axes[1].set_ylabel(\"PCA Component 2\")\n",
    "\n",
    "plt.show()"
   ]
  }
 ],
 "metadata": {
  "kernelspec": {
   "display_name": "Python 3 (ipykernel)",
   "language": "python",
   "name": "python3"
  },
  "language_info": {
   "codemirror_mode": {
    "name": "ipython",
    "version": 3
   },
   "file_extension": ".py",
   "mimetype": "text/x-python",
   "name": "python",
   "nbconvert_exporter": "python",
   "pygments_lexer": "ipython3",
   "version": "3.9.12"
  }
 },
 "nbformat": 4,
 "nbformat_minor": 5
}
