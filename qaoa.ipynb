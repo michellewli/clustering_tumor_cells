{
 "cells": [
  {
   "cell_type": "markdown",
   "id": "b3105027",
   "metadata": {},
   "source": [
    "# Tumor Clustering with QAOA\n",
    "This notebook demonstrates how to use QAOA for clustering tumor data using Qiskit. The algorithm is designed to classify tumor samples as benign or malignant based on features extracted from medical images."
   ]
  },
  {
   "cell_type": "code",
   "execution_count": null,
   "id": "f524968f",
   "metadata": {},
   "outputs": [],
   "source": [
    "import numpy as np\n",
    "import pandas as pd\n",
    "from qiskit import Aer, QuantumCircuit\n",
    "from qiskit.opflow import Z, X, I\n",
    "from qiskit_aer import AerSimulator\n",
    "from qiskit.utils import QuantumInstance\n",
    "from qiskit.algorithms import QAOA\n",
    "from qiskit.algorithms.optimizers import COBYLA\n",
    "from sklearn.preprocessing import StandardScaler\n",
    "from sklearn.metrics import silhouette_score\n",
    "import itertools"
   ]
  },
  {
   "cell_type": "markdown",
   "id": "a7ef0f94",
   "metadata": {},
   "source": [
    "### Load and Prepare Data\n",
    "Load the tumor data, standardize the features, and extract the tumor IDs for output."
   ]
  },
  {
   "cell_type": "code",
   "execution_count": null,
   "id": "bcd165b2",
   "metadata": {},
   "outputs": [],
   "source": [
    "def load_data(file_path):\n",
    "    # Load the tumor data, assuming 'ID' and 'diagnosis' columns are present\n",
    "    data = pd.read_csv(file_path)\n",
    "    ids = data['ID']  # Extract the IDs for output\n",
    "    features = data.drop(columns=['ID', 'diagnosis'])  # Exclude ID and diagnosis for clustering\n",
    "    scaler = StandardScaler()\n",
    "    scaled_features = scaler.fit_transform(features)\n",
    "    return scaled_features, ids"
   ]
  },
  {
   "cell_type": "markdown",
   "id": "3f3f3b50",
   "metadata": {},
   "source": [
    "### Define Cost and Mixer Hamiltonians\n",
    "These Hamiltonians guide the QAOA algorithm in finding the optimal clustering configuration."
   ]
  },
  {
   "cell_type": "code",
   "execution_count": null,
   "id": "cf8c8e3b",
   "metadata": {},
   "outputs": [],
   "source": [
    "def construct_cost_hamiltonian(num_qubits, feature_pairs):\n",
    "    # Cost Hamiltonian: Entangling terms to encourage clustering\n",
    "    H_C = 0\n",
    "    for (i, j) in feature_pairs:\n",
    "        H_C += (I ^ i) ^ Z ^ Z ^ (I ^ (num_qubits - i - j - 2))\n",
    "    return H_C\n",
    "\n",
    "def construct_mixer_hamiltonian(num_qubits):\n",
    "    # Mixer Hamiltonian: Standard QAOA mixer using X operations\n",
    "    H_M = sum(X ^ i for i in range(num_qubits))\n",
    "    return H_M"
   ]
  },
  {
   "cell_type": "markdown",
   "id": "56d7c994",
   "metadata": {},
   "source": [
    "### QAOA for Clustering\n",
    "This function applies QAOA using the defined Hamiltonians to find clusters in the tumor data."
   ]
  },
  {
   "cell_type": "code",
   "execution_count": null,
   "id": "3f3df428",
   "metadata": {},
   "outputs": [],
   "source": [
    "def qaoa_for_clustering_with_hamiltonians(data, num_qubits, p=1):\n",
    "    # Define pairs of features for the cost Hamiltonian\n",
    "    feature_pairs = list(itertools.combinations(range(num_qubits), 2))\n",
    "\n",
    "    # Construct cost and mixer Hamiltonians\n",
    "    cost_hamiltonian = construct_cost_hamiltonian(num_qubits, feature_pairs)\n",
    "    mixer_hamiltonian = construct_mixer_hamiltonian(num_qubits)\n",
    "\n",
    "    # Define the parameterized QAOA circuit with AerSimulator\n",
    "    simulator = AerSimulator()\n",
    "    quantum_instance = QuantumInstance(backend=simulator)\n",
    "\n",
    "    # Initialize QAOA with custom cost and mixer Hamiltonians\n",
    "    qaoa = QAOA(optimizer=COBYLA(maxiter=100), reps=p, quantum_instance=quantum_instance)\n",
    "\n",
    "    # Run QAOA to approximate the clustering solution\n",
    "    result = qaoa.compute_minimum_eigenvalue(cost_hamiltonian + mixer_hamiltonian)\n",
    "\n",
    "    # Process results (eigenstate) into cluster labels\n",
    "    solution = np.array([int(bit) for bit in result.eigenstate])\n",
    "    clusters = {0: [], 1: []}\n",
    "\n",
    "    for idx, bit in enumerate(solution):\n",
    "        clusters[bit].append(idx)\n",
    "\n",
    "    return clusters, result.eigenvalue.real"
   ]
  },
  {
   "cell_type": "markdown",
   "id": "cc7a7a91",
   "metadata": {},
   "source": [
    "### Evaluate Clustering\n",
    "Compute the silhouette score to assess the quality of clustering."
   ]
  },
  {
   "cell_type": "code",
   "execution_count": null,
   "id": "d33f2687",
   "metadata": {},
   "outputs": [],
   "source": [
    "def evaluate_clustering(clusters, data):\n",
    "    # Evaluate clustering using silhouette score\n",
    "    labels = np.zeros(data.shape[0])\n",
    "    for cluster_label, indices in clusters.items():\n",
    "        for idx in indices:\n",
    "            labels[idx] = cluster_label\n",
    "    score = silhouette_score(data, labels)\n",
    "    print(f'Silhouette Score for clustering: {score}')\n",
    "    return score, labels"
   ]
  },
  {
   "cell_type": "markdown",
   "id": "3c04367f",
   "metadata": {},
   "source": [
    "### Save Clustering Results\n",
    "Save the clustering results with tumor IDs and cluster assignments to a CSV file."
   ]
  },
  {
   "cell_type": "code",
   "execution_count": null,
   "id": "c9288aa4",
   "metadata": {},
   "outputs": [],
   "source": [
    "def save_clustering_results(ids, labels, output_file='clustering_results.csv'):\n",
    "    # Create a DataFrame with tumor ID and cluster label (0 or 1)\n",
    "    results_df = pd.DataFrame({'ID': ids, 'Cluster': labels})\n",
    "    results_df.to_csv(output_file, index=False)\n",
    "    print(f'Clustering results saved to {output_file}')"
   ]
  },
  {
   "cell_type": "markdown",
   "id": "d9405aae",
   "metadata": {},
   "source": [
    "### Run the QAOA Clustering Process\n",
    "Specify the file path, load the data, run QAOA, evaluate the clustering, and save results."
   ]
  },
  {
   "cell_type": "code",
   "execution_count": null,
   "id": "9163c548",
   "metadata": {},
   "outputs": [],
   "source": [
    "# Load data\n",
    "file_path = 'data/data.csv'  # Path to your data file\n",
    "data, ids = load_data(file_path)\n",
    "\n",
    "# Define the number of qubits based on features you want to use (here, all features)\n",
    "num_qubits = data.shape[1]\n",
    "\n",
    "# Run QAOA with Hamiltonians for clustering\n",
    "clusters, obj_value = qaoa_for_clustering_with_hamiltonians(data, num_qubits)\n",
    "print(f'Objective value of clustering: {obj_value}')\n",
    "\n",
    "# Evaluate clustering performance and get labels\n",
    "score, labels = evaluate_clustering(clusters, data)\n",
    "\n",
    "# Save results with IDs and cluster assignments\n",
    "save_clustering_results(ids, labels)"
   ]
  }
 ],
 "metadata": {
  "kernelspec": {
   "display_name": "Python 3 (ipykernel)",
   "language": "python",
   "name": "python3"
  },
  "language_info": {
   "codemirror_mode": {
    "name": "ipython",
    "version": 3
   },
   "file_extension": ".py",
   "mimetype": "text/x-python",
   "name": "python",
   "nbconvert_exporter": "python",
   "pygments_lexer": "ipython3",
   "version": "3.9.12"
  }
 },
 "nbformat": 4,
 "nbformat_minor": 5
}
