{
 "cells": [
  {
   "cell_type": "markdown",
   "metadata": {},
   "source": [
    "## Data Clustering of Tumor Data"
   ]
  },
  {
   "cell_type": "markdown",
   "metadata": {},
   "source": [
    "### Clustering with K-means clustering"
   ]
  },
  {
   "cell_type": "code",
   "execution_count": 57,
   "metadata": {
    "_cell_guid": "b8458c8e-b233-49d5-9770-694bece81293",
    "_execution_state": "idle",
    "_uuid": "47783dbf4676f1bed198dbe3768f6ba487fbe975",
    "scrolled": true
   },
   "outputs": [
    {
     "name": "stdout",
     "output_type": "stream",
     "text": [
      "current working directory: /home/michellewli/quantum_programming_project/clustering_tumor_cells\n",
      "data.csv\n",
      "\n"
     ]
    }
   ],
   "source": [
    "import numpy as np # linear algebra\n",
    "import pandas as pd # data processing, CSV file I/O (e.g. pd.read_csv)\n",
    "\n",
    "\n",
    "import matplotlib as mpl\n",
    "import matplotlib.pyplot as plt\n",
    "import matplotlib.pyplot as plt2\n",
    "import matplotlib.cm as cm\n",
    "import os\n",
    "%matplotlib inline\n",
    "from sklearn import preprocessing\n",
    "from sklearn.cluster import KMeans\n",
    "from subprocess import check_output\n",
    "current_working_directory = os.getcwd()\n",
    "print(f\"current working directory: {current_working_directory}\")\n",
    "#\n",
    "print(check_output([\"ls\", \"data\"]).decode(\"utf8\"))\n"
   ]
  },
  {
   "cell_type": "code",
   "execution_count": 58,
   "metadata": {
    "_cell_guid": "2f88dc98-b91a-4574-b182-069395a1a5f0",
    "_execution_state": "idle",
    "_uuid": "4e309f19617f2bcef1595de0d6df5d3bc7460844"
   },
   "outputs": [
    {
     "data": {
      "text/html": [
       "<div>\n",
       "<style scoped>\n",
       "    .dataframe tbody tr th:only-of-type {\n",
       "        vertical-align: middle;\n",
       "    }\n",
       "\n",
       "    .dataframe tbody tr th {\n",
       "        vertical-align: top;\n",
       "    }\n",
       "\n",
       "    .dataframe thead th {\n",
       "        text-align: right;\n",
       "    }\n",
       "</style>\n",
       "<table border=\"1\" class=\"dataframe\">\n",
       "  <thead>\n",
       "    <tr style=\"text-align: right;\">\n",
       "      <th></th>\n",
       "      <th>id</th>\n",
       "      <th>diagnosis</th>\n",
       "      <th>radius_mean</th>\n",
       "      <th>texture_mean</th>\n",
       "      <th>perimeter_mean</th>\n",
       "      <th>area_mean</th>\n",
       "      <th>smoothness_mean</th>\n",
       "      <th>compactness_mean</th>\n",
       "      <th>concavity_mean</th>\n",
       "      <th>concave points_mean</th>\n",
       "      <th>...</th>\n",
       "      <th>texture_worst</th>\n",
       "      <th>perimeter_worst</th>\n",
       "      <th>area_worst</th>\n",
       "      <th>smoothness_worst</th>\n",
       "      <th>compactness_worst</th>\n",
       "      <th>concavity_worst</th>\n",
       "      <th>concave points_worst</th>\n",
       "      <th>symmetry_worst</th>\n",
       "      <th>fractal_dimension_worst</th>\n",
       "      <th>Unnamed: 32</th>\n",
       "    </tr>\n",
       "  </thead>\n",
       "  <tbody>\n",
       "    <tr>\n",
       "      <th>0</th>\n",
       "      <td>842302</td>\n",
       "      <td>M</td>\n",
       "      <td>17.99</td>\n",
       "      <td>10.38</td>\n",
       "      <td>122.80</td>\n",
       "      <td>1001.0</td>\n",
       "      <td>0.11840</td>\n",
       "      <td>0.27760</td>\n",
       "      <td>0.3001</td>\n",
       "      <td>0.14710</td>\n",
       "      <td>...</td>\n",
       "      <td>17.33</td>\n",
       "      <td>184.60</td>\n",
       "      <td>2019.0</td>\n",
       "      <td>0.1622</td>\n",
       "      <td>0.6656</td>\n",
       "      <td>0.7119</td>\n",
       "      <td>0.2654</td>\n",
       "      <td>0.4601</td>\n",
       "      <td>0.11890</td>\n",
       "      <td>NaN</td>\n",
       "    </tr>\n",
       "    <tr>\n",
       "      <th>1</th>\n",
       "      <td>842517</td>\n",
       "      <td>M</td>\n",
       "      <td>20.57</td>\n",
       "      <td>17.77</td>\n",
       "      <td>132.90</td>\n",
       "      <td>1326.0</td>\n",
       "      <td>0.08474</td>\n",
       "      <td>0.07864</td>\n",
       "      <td>0.0869</td>\n",
       "      <td>0.07017</td>\n",
       "      <td>...</td>\n",
       "      <td>23.41</td>\n",
       "      <td>158.80</td>\n",
       "      <td>1956.0</td>\n",
       "      <td>0.1238</td>\n",
       "      <td>0.1866</td>\n",
       "      <td>0.2416</td>\n",
       "      <td>0.1860</td>\n",
       "      <td>0.2750</td>\n",
       "      <td>0.08902</td>\n",
       "      <td>NaN</td>\n",
       "    </tr>\n",
       "    <tr>\n",
       "      <th>2</th>\n",
       "      <td>84300903</td>\n",
       "      <td>M</td>\n",
       "      <td>19.69</td>\n",
       "      <td>21.25</td>\n",
       "      <td>130.00</td>\n",
       "      <td>1203.0</td>\n",
       "      <td>0.10960</td>\n",
       "      <td>0.15990</td>\n",
       "      <td>0.1974</td>\n",
       "      <td>0.12790</td>\n",
       "      <td>...</td>\n",
       "      <td>25.53</td>\n",
       "      <td>152.50</td>\n",
       "      <td>1709.0</td>\n",
       "      <td>0.1444</td>\n",
       "      <td>0.4245</td>\n",
       "      <td>0.4504</td>\n",
       "      <td>0.2430</td>\n",
       "      <td>0.3613</td>\n",
       "      <td>0.08758</td>\n",
       "      <td>NaN</td>\n",
       "    </tr>\n",
       "    <tr>\n",
       "      <th>3</th>\n",
       "      <td>84348301</td>\n",
       "      <td>M</td>\n",
       "      <td>11.42</td>\n",
       "      <td>20.38</td>\n",
       "      <td>77.58</td>\n",
       "      <td>386.1</td>\n",
       "      <td>0.14250</td>\n",
       "      <td>0.28390</td>\n",
       "      <td>0.2414</td>\n",
       "      <td>0.10520</td>\n",
       "      <td>...</td>\n",
       "      <td>26.50</td>\n",
       "      <td>98.87</td>\n",
       "      <td>567.7</td>\n",
       "      <td>0.2098</td>\n",
       "      <td>0.8663</td>\n",
       "      <td>0.6869</td>\n",
       "      <td>0.2575</td>\n",
       "      <td>0.6638</td>\n",
       "      <td>0.17300</td>\n",
       "      <td>NaN</td>\n",
       "    </tr>\n",
       "    <tr>\n",
       "      <th>4</th>\n",
       "      <td>84358402</td>\n",
       "      <td>M</td>\n",
       "      <td>20.29</td>\n",
       "      <td>14.34</td>\n",
       "      <td>135.10</td>\n",
       "      <td>1297.0</td>\n",
       "      <td>0.10030</td>\n",
       "      <td>0.13280</td>\n",
       "      <td>0.1980</td>\n",
       "      <td>0.10430</td>\n",
       "      <td>...</td>\n",
       "      <td>16.67</td>\n",
       "      <td>152.20</td>\n",
       "      <td>1575.0</td>\n",
       "      <td>0.1374</td>\n",
       "      <td>0.2050</td>\n",
       "      <td>0.4000</td>\n",
       "      <td>0.1625</td>\n",
       "      <td>0.2364</td>\n",
       "      <td>0.07678</td>\n",
       "      <td>NaN</td>\n",
       "    </tr>\n",
       "  </tbody>\n",
       "</table>\n",
       "<p>5 rows × 33 columns</p>\n",
       "</div>"
      ],
      "text/plain": [
       "         id diagnosis  radius_mean  texture_mean  perimeter_mean  area_mean  \\\n",
       "0    842302         M        17.99         10.38          122.80     1001.0   \n",
       "1    842517         M        20.57         17.77          132.90     1326.0   \n",
       "2  84300903         M        19.69         21.25          130.00     1203.0   \n",
       "3  84348301         M        11.42         20.38           77.58      386.1   \n",
       "4  84358402         M        20.29         14.34          135.10     1297.0   \n",
       "\n",
       "   smoothness_mean  compactness_mean  concavity_mean  concave points_mean  \\\n",
       "0          0.11840           0.27760          0.3001              0.14710   \n",
       "1          0.08474           0.07864          0.0869              0.07017   \n",
       "2          0.10960           0.15990          0.1974              0.12790   \n",
       "3          0.14250           0.28390          0.2414              0.10520   \n",
       "4          0.10030           0.13280          0.1980              0.10430   \n",
       "\n",
       "   ...  texture_worst  perimeter_worst  area_worst  smoothness_worst  \\\n",
       "0  ...          17.33           184.60      2019.0            0.1622   \n",
       "1  ...          23.41           158.80      1956.0            0.1238   \n",
       "2  ...          25.53           152.50      1709.0            0.1444   \n",
       "3  ...          26.50            98.87       567.7            0.2098   \n",
       "4  ...          16.67           152.20      1575.0            0.1374   \n",
       "\n",
       "   compactness_worst  concavity_worst  concave points_worst  symmetry_worst  \\\n",
       "0             0.6656           0.7119                0.2654          0.4601   \n",
       "1             0.1866           0.2416                0.1860          0.2750   \n",
       "2             0.4245           0.4504                0.2430          0.3613   \n",
       "3             0.8663           0.6869                0.2575          0.6638   \n",
       "4             0.2050           0.4000                0.1625          0.2364   \n",
       "\n",
       "   fractal_dimension_worst  Unnamed: 32  \n",
       "0                  0.11890          NaN  \n",
       "1                  0.08902          NaN  \n",
       "2                  0.08758          NaN  \n",
       "3                  0.17300          NaN  \n",
       "4                  0.07678          NaN  \n",
       "\n",
       "[5 rows x 33 columns]"
      ]
     },
     "execution_count": 58,
     "metadata": {},
     "output_type": "execute_result"
    }
   ],
   "source": [
    "# Read the data file\n",
    "data = pd.read_csv('data/data.csv')\n",
    "data.head()\n"
   ]
  },
  {
   "cell_type": "code",
   "execution_count": 59,
   "metadata": {
    "_cell_guid": "c8296ef1-f658-4efa-a71a-77864d582979",
    "_execution_state": "idle",
    "_uuid": "8ea2e37ae63d8ecb4f114d437c57116a06371869"
   },
   "outputs": [
    {
     "name": "stderr",
     "output_type": "stream",
     "text": [
      "/home/michellewli/anaconda3/lib/python3.9/site-packages/sklearn/manifold/_t_sne.py:780: FutureWarning: The default initialization in TSNE will change from 'random' to 'pca' in 1.2.\n",
      "  warnings.warn(\n",
      "/home/michellewli/anaconda3/lib/python3.9/site-packages/sklearn/manifold/_t_sne.py:790: FutureWarning: The default learning rate in TSNE will change from 200.0 to 'auto' in 1.2.\n",
      "  warnings.warn(\n"
     ]
    },
    {
     "name": "stdout",
     "output_type": "stream",
     "text": [
      "[t-SNE] Computing 121 nearest neighbors...\n",
      "[t-SNE] Indexed 569 samples in 0.000s...\n",
      "[t-SNE] Computed neighbors for 569 samples in 0.017s...\n",
      "[t-SNE] Computed conditional probabilities for sample 569 / 569\n",
      "[t-SNE] Mean sigma: 1.522404\n",
      "[t-SNE] KL divergence after 250 iterations with early exaggeration: 65.553284\n",
      "[t-SNE] KL divergence after 1350 iterations: 0.893466\n"
     ]
    }
   ],
   "source": [
    "# Cleaning and modifying the data\n",
    "data = data.drop('id',axis=1)\n",
    "data = data.drop('Unnamed: 32',axis=1)\n",
    "# Mapping Benign to 0 and Malignant to 1 \n",
    "data['diagnosis'] = data['diagnosis'].map({'M':1,'B':0})\n",
    "# Scaling the dataset\n",
    "datas = pd.DataFrame(preprocessing.scale(data.iloc[:,1:32]))\n",
    "datas.columns = list(data.iloc[:,1:32].columns)\n",
    "datas['diagnosis'] = data['diagnosis']\n",
    "# Creating the high dimensional feature space X\n",
    "data_drop = datas.drop('diagnosis',axis=1)\n",
    "X = data_drop.values\n",
    "\n",
    "#Creating a 2D visualization to visualize the clusters\n",
    "from sklearn.manifold import TSNE\n",
    "tsne = TSNE(verbose=1, perplexity=40, n_iter= 4000)\n",
    "Y = tsne.fit_transform(X)"
   ]
  },
  {
   "cell_type": "code",
   "execution_count": 60,
   "metadata": {
    "_cell_guid": "e1f90b94-4fe9-4edb-b49f-a4178f9438fd",
    "_execution_state": "idle",
    "_uuid": "270739d4c7599912717e58f45e14a0ba96c38963"
   },
   "outputs": [
    {
     "name": "stdout",
     "output_type": "stream",
     "text": [
      "[1 1 1 1 1 1 1 1 1 1 0 1 1 0 1 1 0 1 1 0 0 0 1 1 1 1 1 1 1 1 1 1 1 1 1 1 1\n",
      " 0 0 0 0 0 1 0 0 1 0 1 0 0 0 0 0 1 0 0 1 1 0 0 0 0 1 0 1 1 0 0 1 0 1 0 1 0\n",
      " 0 1 0 1 1 0 0 1 1 1 0 1 0 1 0 1 0 0 0 0 1 1 0 0 0 0 0 0 0 0 0 1 0 0 1 0 0\n",
      " 0 1 0 0 0 0 1 1 0 0 1 1 0 0 0 0 1 1 1 0 1 1 0 1 0 0 0 1 0 0 1 0 0 0 0 1 0\n",
      " 0 0 0 0 1 0 0 0 1 0 0 0 0 1 1 0 1 0 0 1 1 0 0 0 1 0 0 0 0 1 0 0 1 1 0 0 0\n",
      " 0 0 0 0 0 1 0 0 1 1 0 1 1 1 1 0 1 1 1 0 0 0 0 0 0 1 0 1 1 1 1 0 0 1 1 0 0\n",
      " 0 1 0 0 0 0 0 1 1 0 0 1 0 0 1 1 0 1 0 0 1 0 1 0 0 0 0 0 1 0 1 1 1 0 1 1 1\n",
      " 1 1 0 1 0 1 1 0 0 0 0 0 0 1 0 0 0 0 0 0 0 1 0 1 1 0 0 0 0 0 0 1 0 0 0 0 0\n",
      " 0 0 0 0 1 0 1 0 0 0 0 0 0 0 0 0 0 0 0 0 0 1 1 0 0 1 0 1 0 0 0 0 1 1 1 0 0\n",
      " 0 0 1 0 1 0 1 0 0 0 1 0 0 0 0 0 0 0 1 1 1 0 0 0 0 0 0 0 0 0 0 0 1 1 0 1 1\n",
      " 1 0 1 1 0 0 1 0 0 1 0 0 0 0 0 0 0 0 0 1 0 0 1 1 0 0 0 0 0 0 1 0 0 0 0 0 0\n",
      " 0 1 0 0 0 0 0 0 0 0 1 0 0 0 1 0 0 0 0 0 0 0 0 1 0 1 1 0 0 0 0 0 0 0 1 0 0\n",
      " 0 0 1 0 0 1 0 1 0 0 0 0 0 0 0 0 1 1 0 0 0 1 0 0 1 0 0 0 0 0 0 0 0 0 0 1 0\n",
      " 0 0 0 0 1 0 1 0 0 0 0 1 0 0 0 0 0 1 1 0 1 0 1 1 0 0 0 0 1 0 0 1 0 0 0 1 1\n",
      " 0 0 0 1 0 0 0 0 0 0 0 0 0 0 0 1 0 1 0 0 0 0 0 0 0 0 0 0 0 0 0 0 0 0 0 0 0\n",
      " 0 0 0 0 0 0 0 1 1 1 1 1 1 0]\n"
     ]
    }
   ],
   "source": [
    "#rom sklearn.cluster import KMeans\n",
    "#mport numpy as np\n",
    "#mport pandas as pd\n",
    "#mport matplotlib.pyplot as plt\n",
    "\n",
    "# Load data and assume the first column is the tumor ID with the title \"id\"\n",
    "#ata = pd.read_csv('data.csv')\n",
    "\n",
    "# Separate the 'id' column for later use and remove it from the features used in clustering\n",
    "data = pd.read_csv('data/data.csv')\n",
    "data = data.drop(columns=['Unnamed: 32'], errors='ignore')\n",
    "#data.head()\n",
    "ids = data.columns\n",
    "\n",
    "\n",
    "# Cluster using k-means\n",
    "kmns = KMeans(n_clusters=2, init='k-means++', n_init=10, max_iter=300, tol=0.0001, verbose=0, random_state=None, copy_x=True, algorithm='auto')\n",
    "kY = kmns.fit_predict(X)\n",
    "print(kY)\n",
    "\n",
    "\n"
   ]
  },
  {
   "cell_type": "code",
   "execution_count": 61,
   "metadata": {
    "scrolled": true
   },
   "outputs": [
    {
     "name": "stdout",
     "output_type": "stream",
     "text": [
      "Classified clusters saved to classified_clusters.csv\n",
      "         id Cluster_label\n",
      "0    842302             M\n",
      "1    842517             M\n",
      "2  84300903             M\n",
      "3  84348301             M\n",
      "4  84358402             M\n"
     ]
    }
   ],
   "source": [
    "# Map k-means cluster labels to \"benign\" and \"malignant\" based on majority label in each cluster\n",
    "# Assuming 'data' contains the actual 'diagnosis' labels for comparison\n",
    "\n",
    "data['kmeans_cluster'] = kY\n",
    "cluster_mapping = {}\n",
    "\n",
    "# Determine which cluster corresponds to \"benign\" and \"malignant\"\n",
    "for cluster in range(2):\n",
    "    # Get actual diagnosis labels for samples in this cluster\n",
    "    diagnosis_in_cluster = data[data['kmeans_cluster'] == cluster]['diagnosis']\n",
    "    \n",
    "    # Determine the majority class in this cluster (benign or malignant)\n",
    "    majority_label = diagnosis_in_cluster.value_counts().idxmax()\n",
    "    cluster_mapping[cluster] = majority_label\n",
    "\n",
    "# Apply mapping to k-means predictions\n",
    "data['Cluster_label'] = data['kmeans_cluster'].map(cluster_mapping)\n",
    "data.to_csv('dataKY.csv', index=False)\n",
    "\n",
    "# Save the classified dataset with tumor ID and benign/malignant labels based on k-means clustering\n",
    "data[['id', 'Cluster_label']].to_csv('classified_clusters.csv', index=False)\n",
    "print(\"Classified clusters saved to classified_clusters.csv\")\n",
    "\n",
    "# Load the CSV file and display its first few rows\n",
    "classified_clusters = pd.read_csv('classified_clusters.csv')\n",
    "print(classified_clusters.head())"
   ]
  },
  {
   "cell_type": "code",
   "execution_count": 62,
   "metadata": {},
   "outputs": [
    {
     "data": {
      "text/plain": [
       "Text(0.5, 1.0, 'Actual clusters')"
      ]
     },
     "execution_count": 62,
     "metadata": {},
     "output_type": "execute_result"
    },
    {
     "data": {
      "image/png": "[encoded data removed]",
      "text/plain": [
       "<Figure size 432x288 with 2 Axes>"
      ]
     },
     "metadata": {
      "needs_background": "light"
     },
     "output_type": "display_data"
    }
   ],
   "source": [
    "#Cluster using k-means\n",
    "from sklearn.cluster import KMeans\n",
    "kmns = KMeans(n_clusters=2, init='k-means++', n_init=10, max_iter=300, tol=0.0001, verbose=0, random_state=None, copy_x=True, algorithm='auto')\n",
    "kY = kmns.fit_predict(X)\n",
    "\n",
    "f, (ax1, ax2) = plt.subplots(1, 2, sharey=True)\n",
    "\n",
    "ax1.scatter(Y[:,0],Y[:,1],  c=kY, cmap = \"jet\", edgecolor = \"None\", alpha=0.35)\n",
    "ax1.set_title('k-means clustering plot')\n",
    "\n",
    "ax2.scatter(Y[:,0],Y[:,1],  c = datas['diagnosis'], cmap = \"jet\", edgecolor = \"None\", alpha=0.35)\n",
    "ax2.set_title('Actual clusters')\n"
   ]
  },
  {
   "cell_type": "markdown",
   "metadata": {},
   "source": [
    "### Clustering using QAOA"
   ]
  },
  {
   "cell_type": "code",
   "execution_count": 63,
   "metadata": {},
   "outputs": [
    {
     "ename": "ModuleNotFoundError",
     "evalue": "No module named 'qiskit'",
     "output_type": "error",
     "traceback": [
      "\u001b[0;31m---------------------------------------------------------------------------\u001b[0m",
      "\u001b[0;31mModuleNotFoundError\u001b[0m                       Traceback (most recent call last)",
      "Input \u001b[0;32mIn [63]\u001b[0m, in \u001b[0;36m<cell line: 3>\u001b[0;34m()\u001b[0m\n\u001b[1;32m      1\u001b[0m \u001b[38;5;28;01mimport\u001b[39;00m \u001b[38;5;21;01mnumpy\u001b[39;00m \u001b[38;5;28;01mas\u001b[39;00m \u001b[38;5;21;01mnp\u001b[39;00m\n\u001b[1;32m      2\u001b[0m \u001b[38;5;28;01mimport\u001b[39;00m \u001b[38;5;21;01mpandas\u001b[39;00m \u001b[38;5;28;01mas\u001b[39;00m \u001b[38;5;21;01mpd\u001b[39;00m\n\u001b[0;32m----> 3\u001b[0m \u001b[38;5;28;01mfrom\u001b[39;00m \u001b[38;5;21;01mqiskit\u001b[39;00m \u001b[38;5;28;01mimport\u001b[39;00m QuantumCircuit\n\u001b[1;32m      4\u001b[0m \u001b[38;5;28;01mfrom\u001b[39;00m \u001b[38;5;21;01mqiskit_aer\u001b[39;00m \u001b[38;5;28;01mimport\u001b[39;00m AerSimulation\n\u001b[1;32m      5\u001b[0m \u001b[38;5;28;01mfrom\u001b[39;00m \u001b[38;5;21;01mqiskit\u001b[39;00m\u001b[38;5;21;01m.\u001b[39;00m\u001b[38;5;21;01mopflow\u001b[39;00m \u001b[38;5;28;01mimport\u001b[39;00m Z, X, I\n",
      "\u001b[0;31mModuleNotFoundError\u001b[0m: No module named 'qiskit'"
     ]
    }
   ],
   "source": [
    "import numpy as np\n",
    "import pandas as pd\n",
    "from qiskit import QuantumCircuit\n",
    "from qiskit_aer import AerSimulation\n",
    "from qiskit.opflow import Z, X, I\n",
    "from qiskit_aer import AerSimulator\n",
    "from qiskit.utils import QuantumInstance\n",
    "from qiskit.algorithms import QAOA\n",
    "from qiskit.algorithms.optimizers import COBYLA\n",
    "from sklearn.preprocessing import StandardScaler\n",
    "from sklearn.metrics import silhouette_score\n",
    "import itertools"
   ]
  },
  {
   "cell_type": "code",
   "execution_count": null,
   "metadata": {},
   "outputs": [],
   "source": [
    "# Load and Prepare Data\n",
    "# Load the tumor data, standardize the features, and extract the tumor IDs for output.\n",
    "\n",
    "def load_data(file_path):\n",
    "    # Load the tumor data, assuming 'ID' and 'diagnosis' columns are present\n",
    "    data = pd.read_csv(file_path)\n",
    "    ids = data['ID']  # Extract the IDs for output\n",
    "    features = data.drop(columns=['ID', 'diagnosis'])  # Exclude ID and diagnosis for clustering\n",
    "    scaler = StandardScaler()\n",
    "    scaled_features = scaler.fit_transform(features)\n",
    "    return scaled_features, ids"
   ]
  },
  {
   "cell_type": "code",
   "execution_count": null,
   "metadata": {},
   "outputs": [],
   "source": [
    "def construct_cost_hamiltonian(num_qubits, feature_pairs):\n",
    "    # Cost Hamiltonian: Entangling terms to encourage clustering\n",
    "    H_C = 0\n",
    "    for (i, j) in feature_pairs:\n",
    "        H_C += (I ^ i) ^ Z ^ Z ^ (I ^ (num_qubits - i - j - 2))\n",
    "    return H_C\n",
    "\n",
    "def construct_mixer_hamiltonian(num_qubits):\n",
    "    # Mixer Hamiltonian: Standard QAOA mixer using X operations\n",
    "    H_M = sum(X ^ i for i in range(num_qubits))\n",
    "    return H_M"
   ]
  },
  {
   "cell_type": "code",
   "execution_count": null,
   "metadata": {},
   "outputs": [],
   "source": [
    "def qaoa_for_clustering_with_hamiltonians(data, num_qubits, p=1):\n",
    "    # Define pairs of features for the cost Hamiltonian\n",
    "    feature_pairs = list(itertools.combinations(range(num_qubits), 2))\n",
    "\n",
    "    # Construct cost and mixer Hamiltonians\n",
    "    cost_hamiltonian = construct_cost_hamiltonian(num_qubits, feature_pairs)\n",
    "    mixer_hamiltonian = construct_mixer_hamiltonian(num_qubits)\n",
    "\n",
    "    # Define the parameterized QAOA circuit with AerSimulator\n",
    "    simulator = AerSimulator()\n",
    "    quantum_instance = QuantumInstance(backend=simulator)\n",
    "\n",
    "    # Initialize QAOA with custom cost and mixer Hamiltonians\n",
    "    qaoa = QAOA(optimizer=COBYLA(maxiter=100), reps=p, quantum_instance=quantum_instance)\n",
    "\n",
    "    # Run QAOA to approximate the clustering solution\n",
    "    result = qaoa.compute_minimum_eigenvalue(cost_hamiltonian + mixer_hamiltonian)\n",
    "\n",
    "    # Process results (eigenstate) into cluster labels\n",
    "    solution = np.array([int(bit) for bit in result.eigenstate])\n",
    "    clusters = {0: [], 1: []}\n",
    "\n",
    "    for idx, bit in enumerate(solution):\n",
    "        clusters[bit].append(idx)\n",
    "\n",
    "    return clusters, result.eigenvalue.real"
   ]
  },
  {
   "cell_type": "code",
   "execution_count": null,
   "metadata": {},
   "outputs": [],
   "source": [
    "def evaluate_clustering(clusters, data):\n",
    "    # Evaluate clustering using silhouette score\n",
    "    labels = np.zeros(data.shape[0])\n",
    "    for cluster_label, indices in clusters.items():\n",
    "        for idx in indices:\n",
    "            labels[idx] = cluster_label\n",
    "    score = silhouette_score(data, labels)\n",
    "    print(f'Silhouette Score for clustering: {score}')\n",
    "    return score, labels"
   ]
  },
  {
   "cell_type": "code",
   "execution_count": null,
   "metadata": {},
   "outputs": [],
   "source": [
    "def save_clustering_results(ids, labels, output_file='clustering_results.csv'):\n",
    "    # Create a DataFrame with tumor ID and cluster label (0 or 1)\n",
    "    results_df = pd.DataFrame({'ID': ids, 'Cluster': labels})\n",
    "    results_df.to_csv(output_file, index=False)\n",
    "    print(f'Clustering results saved to {output_file}')"
   ]
  },
  {
   "cell_type": "code",
   "execution_count": null,
   "metadata": {},
   "outputs": [],
   "source": [
    "# Load data\n",
    "file_path = 'data/data.csv'  # Path to your data file\n",
    "data, ids = load_data(file_path)\n",
    "\n",
    "# Define the number of qubits based on features you want to use (here, all features)\n",
    "num_qubits = data.shape[1]\n",
    "\n",
    "# Run QAOA with Hamiltonians for clustering\n",
    "clusters, obj_value = qaoa_for_clustering_with_hamiltonians(data, num_qubits)\n",
    "print(f'Objective value of clustering: {obj_value}')\n",
    "\n",
    "# Evaluate clustering performance and get labels\n",
    "score, labels = evaluate_clustering(clusters, data)\n",
    "\n",
    "# Save results with IDs and cluster assignments\n",
    "save_clustering_results(ids, labels)"
   ]
  },
  {
   "cell_type": "markdown",
   "metadata": {},
   "source": [
    "### Comparing Results "
   ]
  },
  {
   "cell_type": "code",
   "execution_count": null,
   "metadata": {},
   "outputs": [],
   "source": [
    "import pandas as pd\n",
    "import numpy as np\n",
    "from sklearn.metrics import accuracy_score\n",
    "import matplotlib.pyplot as plt\n",
    "from sklearn.decomposition import PCA\n",
    "\n",
    "# Load clustering results from quantum and classical models\n",
    "quantum_results = pd.read_csv('clustering_results_quantum.csv')\n",
    "classical_results = pd.read_csv('clustering_results_classical.csv')"
   ]
  },
  {
   "cell_type": "code",
   "execution_count": null,
   "metadata": {},
   "outputs": [],
   "source": [
    "# Merge results on the 'ID' column to align both classifications for comparison\n",
    "merged_results = pd.merge(classical_results, quantum_results, on='ID', suffixes=('_classical', '_quantum'))\n",
    "\n",
    "# Calculate the accuracy of the quantum model by comparing its clusters to the classical clusters\n",
    "accuracy = accuracy_score(merged_results['Cluster_classical'], merged_results['Cluster_quantum'])\n",
    "print(f\"Quantum Model Accuracy compared to Classical Model: {accuracy * 100:.2f}%\")"
   ]
  },
  {
   "cell_type": "code",
   "execution_count": null,
   "metadata": {},
   "outputs": [],
   "source": [
    "# Visualization of clusters using PCA for dimensionality reduction to 2D\n",
    "pca = PCA(n_components=2)\n",
    "features = pd.read_csv('data/data.csv').drop(columns=['ID', 'diagnosis'], errors='ignore')  # Modify columns as necessary\n",
    "reduced_features = pca.fit_transform(features)\n",
    "\n",
    "# Add the reduced features to the merged dataframe\n",
    "merged_results[['PCA1', 'PCA2']] = reduced_features\n",
    "\n",
    "# Plotting\n",
    "fig, axes = plt.subplots(1, 2, figsize=(14, 6))\n",
    "fig.suptitle(\"Cluster Visualization: Classical vs Quantum\", fontsize=16)\n",
    "\n",
    "# Classical model plot\n",
    "axes[0].scatter(merged_results['PCA1'], merged_results['PCA2'], c=merged_results['Cluster_classical'], cmap='viridis', s=30)\n",
    "axes[0].set_title(\"Classical Model Clusters\")\n",
    "axes[0].set_xlabel(\"PCA Component 1\")\n",
    "axes[0].set_ylabel(\"PCA Component 2\")\n",
    "\n",
    "# Quantum model plot\n",
    "axes[1].scatter(merged_results['PCA1'], merged_results['PCA2'], c=merged_results['Cluster_quantum'], cmap='viridis', s=30)\n",
    "axes[1].set_title(\"Quantum Model Clusters\")\n",
    "axes[1].set_xlabel(\"PCA Component 1\")\n",
    "axes[1].set_ylabel(\"PCA Component 2\")\n",
    "\n",
    "plt.show()"
   ]
  }
 ],
 "metadata": {
  "kernelspec": {
   "display_name": "Python 3 (ipykernel)",
   "language": "python",
   "name": "python3"
  },
  "language_info": {
   "codemirror_mode": {
    "name": "ipython",
    "version": 3
   },
   "file_extension": ".py",
   "mimetype": "text/x-python",
   "name": "python",
   "nbconvert_exporter": "python",
   "pygments_lexer": "ipython3",
   "version": "3.9.12"
  }
 },
 "nbformat": 4,
 "nbformat_minor": 1
}
